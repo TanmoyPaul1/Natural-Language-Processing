{
 "cells": [
  {
   "cell_type": "code",
   "execution_count": 1,
   "metadata": {},
   "outputs": [],
   "source": [
    "# import pandas lib as pd\n",
    "import pandas as pd"
   ]
  },
  {
   "cell_type": "code",
   "execution_count": 6,
   "metadata": {},
   "outputs": [],
   "source": [
    "# read by default 1st sheet of an excel file\n",
    "df = pd.read_excel('../data/word_list_pos_neg.xlsx')"
   ]
  },
  {
   "cell_type": "code",
   "execution_count": 8,
   "metadata": {},
   "outputs": [
    {
     "name": "stdout",
     "output_type": "stream",
     "text": [
      "      Unnamed: 0 Negative Sense Word List Positive Sense Word List\n",
      "0              0                      NaN                      NaN\n",
      "1              1                 abnormal                     able\n",
      "2              2                  abolish                abundance\n",
      "3              3               abominable               accelerate\n",
      "4              4               abominably                   accept\n",
      "...          ...                      ...                      ...\n",
      "4716        4716                   zenana                      NaN\n",
      "4717        4717                   zephyr                      NaN\n",
      "4718        4718                     zero                      NaN\n",
      "4719        4719                      zol                      NaN\n",
      "4720        4720                   zombie                      NaN\n",
      "\n",
      "[4721 rows x 3 columns]\n"
     ]
    }
   ],
   "source": [
    "print(df)"
   ]
  },
  {
   "cell_type": "code",
   "execution_count": 11,
   "metadata": {},
   "outputs": [
    {
     "name": "stdout",
     "output_type": "stream",
     "text": [
      "      Unnamed: 0 Negative Sense Word List Positive Sense Word List\n",
      "0              0                      NaN                      NaN\n",
      "4697        4697               xenophobic                      NaN\n",
      "4698        4698                  xerosis                      NaN\n",
      "4699        4699                xylophone                      NaN\n",
      "4700        4700               yawnyeasty                      NaN\n",
      "4701        4701                 yokelish                      NaN\n",
      "4702        4702                    yucky                      NaN\n",
      "4703        4703                 yugoslav                      NaN\n",
      "4704        4704              yugoslavian                      NaN\n",
      "4705        4705                zabernism                      NaN\n",
      "4706        4706                   zaffre                      NaN\n",
      "4707        4707                  zanyism                      NaN\n",
      "4708        4708                      zap                      NaN\n",
      "4709        4709                   zapata                      NaN\n",
      "4710        4710                   zapped                      NaN\n",
      "4711        4711                     zaps                      NaN\n",
      "4712        4712                   zealot                      NaN\n",
      "4713        4713                  zealous                      NaN\n",
      "4714        4714                zealously                      NaN\n",
      "4715        4715                 zelatrix                      NaN\n",
      "4716        4716                   zenana                      NaN\n",
      "4717        4717                   zephyr                      NaN\n",
      "4718        4718                     zero                      NaN\n",
      "4719        4719                      zol                      NaN\n",
      "4720        4720                   zombie                      NaN\n"
     ]
    }
   ],
   "source": [
    "print(df[df['Positive Sense Word List'].isna()])\n"
   ]
  },
  {
   "cell_type": "code",
   "execution_count": 12,
   "metadata": {},
   "outputs": [
    {
     "name": "stdout",
     "output_type": "stream",
     "text": [
      "      Unnamed: 0 Negative Sense Word List Positive Sense Word List\n",
      "1              1                 abnormal                     able\n",
      "2              2                  abolish                abundance\n",
      "3              3               abominable               accelerate\n",
      "4              4               abominably                   accept\n",
      "5              5                abominate                  acclaim\n",
      "...          ...                      ...                      ...\n",
      "4692        4692                 wrongful                     zoom\n",
      "4693        4693                  wrongly                  zorbing\n",
      "4694        4694                  wrought                     zouk\n",
      "4695        4695                 xanthoma                   zounds\n",
      "4696        4696          xenophobiaxyrid                    zowie\n",
      "\n",
      "[4696 rows x 3 columns]\n"
     ]
    }
   ],
   "source": [
    "print(df[df['Positive Sense Word List'].notna()])\n"
   ]
  }
 ],
 "metadata": {
  "kernelspec": {
   "display_name": "3.7.3",
   "language": "python",
   "name": "python3"
  },
  "language_info": {
   "codemirror_mode": {
    "name": "ipython",
    "version": 3
   },
   "file_extension": ".py",
   "mimetype": "text/x-python",
   "name": "python",
   "nbconvert_exporter": "python",
   "pygments_lexer": "ipython3",
   "version": "3.10.6"
  },
  "orig_nbformat": 4
 },
 "nbformat": 4,
 "nbformat_minor": 2
}
