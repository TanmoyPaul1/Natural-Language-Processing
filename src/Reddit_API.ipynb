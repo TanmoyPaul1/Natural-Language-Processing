{
 "cells": [
  {
   "cell_type": "code",
   "execution_count": 309,
   "metadata": {},
   "outputs": [],
   "source": [
    "CLIENT_ID = \"doZap8T-60t8-8SsgzKPxg\"\n",
    "# Add secret key\n",
    "SECRET_KEY  = \"MTfNpx9VzIj1ZB6vk6NSDnYeEtpjxA\""
   ]
  },
  {
   "cell_type": "code",
   "execution_count": 310,
   "metadata": {},
   "outputs": [],
   "source": [
    "with open('pwd.txt', 'r') as file:\n",
    "    pw = file.read()"
   ]
  },
  {
   "attachments": {},
   "cell_type": "markdown",
   "metadata": {},
   "source": [
    "# Get Reddit Data"
   ]
  },
  {
   "attachments": {},
   "cell_type": "markdown",
   "metadata": {},
   "source": [
    "## Getting Access To Reddit API"
   ]
  },
  {
   "cell_type": "code",
   "execution_count": 311,
   "metadata": {},
   "outputs": [],
   "source": [
    "import praw\n",
    "reddit = praw.Reddit(client_id = CLIENT_ID,\n",
    "                     client_secret = SECRET_KEY,\n",
    "                     username = 'Carlosshadow5',\n",
    "                     password = pw,\n",
    "                     user_agent = 'NPL_Project')"
   ]
  },
  {
   "attachments": {},
   "cell_type": "markdown",
   "metadata": {},
   "source": [
    "## Getting Data by Search"
   ]
  },
  {
   "cell_type": "code",
   "execution_count": 312,
   "metadata": {},
   "outputs": [],
   "source": [
    "import pandas as pd\n",
    "\n",
    "# Gets the subreddit\n",
    "subreddit = reddit.subreddit(\"BigFive\")"
   ]
  },
  {
   "attachments": {},
   "cell_type": "markdown",
   "metadata": {},
   "source": [
    "### Neuroticism Posts"
   ]
  },
  {
   "cell_type": "code",
   "execution_count": 313,
   "metadata": {},
   "outputs": [
    {
     "data": {
      "text/html": [
       "<div>\n",
       "<style scoped>\n",
       "    .dataframe tbody tr th:only-of-type {\n",
       "        vertical-align: middle;\n",
       "    }\n",
       "\n",
       "    .dataframe tbody tr th {\n",
       "        vertical-align: top;\n",
       "    }\n",
       "\n",
       "    .dataframe thead th {\n",
       "        text-align: right;\n",
       "    }\n",
       "</style>\n",
       "<table border=\"1\" class=\"dataframe\">\n",
       "  <thead>\n",
       "    <tr style=\"text-align: right;\">\n",
       "      <th></th>\n",
       "      <th>User Name</th>\n",
       "    </tr>\n",
       "  </thead>\n",
       "  <tbody>\n",
       "    <tr>\n",
       "      <th>0</th>\n",
       "      <td>Zestyclose-Tower3859</td>\n",
       "    </tr>\n",
       "    <tr>\n",
       "      <th>1</th>\n",
       "      <td>Proud_Echidna_4960</td>\n",
       "    </tr>\n",
       "    <tr>\n",
       "      <th>2</th>\n",
       "      <td>Aegeblomme_MinouKane</td>\n",
       "    </tr>\n",
       "    <tr>\n",
       "      <th>3</th>\n",
       "      <td>Reghretti</td>\n",
       "    </tr>\n",
       "    <tr>\n",
       "      <th>4</th>\n",
       "      <td>RoseTheQuartz37</td>\n",
       "    </tr>\n",
       "    <tr>\n",
       "      <th>...</th>\n",
       "      <td>...</td>\n",
       "    </tr>\n",
       "    <tr>\n",
       "      <th>169</th>\n",
       "      <td>lR5Yl</td>\n",
       "    </tr>\n",
       "    <tr>\n",
       "      <th>170</th>\n",
       "      <td>Cognitively_Absurd</td>\n",
       "    </tr>\n",
       "    <tr>\n",
       "      <th>171</th>\n",
       "      <td>_un1ty</td>\n",
       "    </tr>\n",
       "    <tr>\n",
       "      <th>172</th>\n",
       "      <td>killerlumberjack</td>\n",
       "    </tr>\n",
       "    <tr>\n",
       "      <th>173</th>\n",
       "      <td>OttoKretschmer</td>\n",
       "    </tr>\n",
       "  </tbody>\n",
       "</table>\n",
       "<p>174 rows × 1 columns</p>\n",
       "</div>"
      ],
      "text/plain": [
       "                User Name\n",
       "0    Zestyclose-Tower3859\n",
       "1      Proud_Echidna_4960\n",
       "2    Aegeblomme_MinouKane\n",
       "3               Reghretti\n",
       "4         RoseTheQuartz37\n",
       "..                    ...\n",
       "169                 lR5Yl\n",
       "170    Cognitively_Absurd\n",
       "171                _un1ty\n",
       "172      killerlumberjack\n",
       "173        OttoKretschmer\n",
       "\n",
       "[174 rows x 1 columns]"
      ]
     },
     "execution_count": 313,
     "metadata": {},
     "output_type": "execute_result"
    }
   ],
   "source": [
    "neuroticism_data = {}\n",
    "neuroticism_df = pd.DataFrame(neuroticism_data)\n",
    "neuroticism_user_names = []\n",
    "\n",
    "subreddit_search = subreddit.search(\"neuroticism\", limit = None)\n",
    "for post in subreddit_search:\n",
    "    neuroticism_user_names.append(post.author.name)\n",
    "\n",
    "# Get unique only\n",
    "neuroticism_user_names = list(set(neuroticism_user_names))\n",
    "\n",
    "neuroticism_df['User Name'] = neuroticism_user_names\n",
    "neuroticism_df"
   ]
  },
  {
   "attachments": {},
   "cell_type": "markdown",
   "metadata": {},
   "source": [
    "### Extraversion Posts"
   ]
  },
  {
   "cell_type": "code",
   "execution_count": 314,
   "metadata": {},
   "outputs": [
    {
     "data": {
      "text/html": [
       "<div>\n",
       "<style scoped>\n",
       "    .dataframe tbody tr th:only-of-type {\n",
       "        vertical-align: middle;\n",
       "    }\n",
       "\n",
       "    .dataframe tbody tr th {\n",
       "        vertical-align: top;\n",
       "    }\n",
       "\n",
       "    .dataframe thead th {\n",
       "        text-align: right;\n",
       "    }\n",
       "</style>\n",
       "<table border=\"1\" class=\"dataframe\">\n",
       "  <thead>\n",
       "    <tr style=\"text-align: right;\">\n",
       "      <th></th>\n",
       "      <th>User Name</th>\n",
       "    </tr>\n",
       "  </thead>\n",
       "  <tbody>\n",
       "    <tr>\n",
       "      <th>0</th>\n",
       "      <td>Proud_Echidna_4960</td>\n",
       "    </tr>\n",
       "    <tr>\n",
       "      <th>1</th>\n",
       "      <td>raisinindasun</td>\n",
       "    </tr>\n",
       "    <tr>\n",
       "      <th>2</th>\n",
       "      <td>Logical_Row3506</td>\n",
       "    </tr>\n",
       "    <tr>\n",
       "      <th>3</th>\n",
       "      <td>Aegeblomme_MinouKane</td>\n",
       "    </tr>\n",
       "    <tr>\n",
       "      <th>4</th>\n",
       "      <td>abbyrosalina</td>\n",
       "    </tr>\n",
       "    <tr>\n",
       "      <th>...</th>\n",
       "      <td>...</td>\n",
       "    </tr>\n",
       "    <tr>\n",
       "      <th>119</th>\n",
       "      <td>PalpitationSlight751</td>\n",
       "    </tr>\n",
       "    <tr>\n",
       "      <th>120</th>\n",
       "      <td>Cognitively_Absurd</td>\n",
       "    </tr>\n",
       "    <tr>\n",
       "      <th>121</th>\n",
       "      <td>_un1ty</td>\n",
       "    </tr>\n",
       "    <tr>\n",
       "      <th>122</th>\n",
       "      <td>killerlumberjack</td>\n",
       "    </tr>\n",
       "    <tr>\n",
       "      <th>123</th>\n",
       "      <td>OttoKretschmer</td>\n",
       "    </tr>\n",
       "  </tbody>\n",
       "</table>\n",
       "<p>124 rows × 1 columns</p>\n",
       "</div>"
      ],
      "text/plain": [
       "                User Name\n",
       "0      Proud_Echidna_4960\n",
       "1           raisinindasun\n",
       "2         Logical_Row3506\n",
       "3    Aegeblomme_MinouKane\n",
       "4            abbyrosalina\n",
       "..                    ...\n",
       "119  PalpitationSlight751\n",
       "120    Cognitively_Absurd\n",
       "121                _un1ty\n",
       "122      killerlumberjack\n",
       "123        OttoKretschmer\n",
       "\n",
       "[124 rows x 1 columns]"
      ]
     },
     "execution_count": 314,
     "metadata": {},
     "output_type": "execute_result"
    }
   ],
   "source": [
    "extraversion_data = {}\n",
    "extraversion_df = pd.DataFrame(extraversion_data)\n",
    "extraversion_user_names = []\n",
    "\n",
    "subreddit_search = subreddit.search(\"extraversion\", limit = None)\n",
    "for post in subreddit_search:\n",
    "    extraversion_user_names.append(post.author.name)\n",
    "\n",
    "# Get unique only\n",
    "extraversion_user_names = list(set(extraversion_user_names))\n",
    "\n",
    "extraversion_df['User Name'] = extraversion_user_names\n",
    "extraversion_df"
   ]
  },
  {
   "attachments": {},
   "cell_type": "markdown",
   "metadata": {},
   "source": [
    "### Openness Posts"
   ]
  },
  {
   "cell_type": "code",
   "execution_count": 315,
   "metadata": {},
   "outputs": [
    {
     "data": {
      "text/html": [
       "<div>\n",
       "<style scoped>\n",
       "    .dataframe tbody tr th:only-of-type {\n",
       "        vertical-align: middle;\n",
       "    }\n",
       "\n",
       "    .dataframe tbody tr th {\n",
       "        vertical-align: top;\n",
       "    }\n",
       "\n",
       "    .dataframe thead th {\n",
       "        text-align: right;\n",
       "    }\n",
       "</style>\n",
       "<table border=\"1\" class=\"dataframe\">\n",
       "  <thead>\n",
       "    <tr style=\"text-align: right;\">\n",
       "      <th></th>\n",
       "      <th>User Name</th>\n",
       "    </tr>\n",
       "  </thead>\n",
       "  <tbody>\n",
       "    <tr>\n",
       "      <th>0</th>\n",
       "      <td>Proud_Echidna_4960</td>\n",
       "    </tr>\n",
       "    <tr>\n",
       "      <th>1</th>\n",
       "      <td>raisinindasun</td>\n",
       "    </tr>\n",
       "    <tr>\n",
       "      <th>2</th>\n",
       "      <td>American-_-Nightmare</td>\n",
       "    </tr>\n",
       "    <tr>\n",
       "      <th>3</th>\n",
       "      <td>Aegeblomme_MinouKane</td>\n",
       "    </tr>\n",
       "    <tr>\n",
       "      <th>4</th>\n",
       "      <td>Reghretti</td>\n",
       "    </tr>\n",
       "    <tr>\n",
       "      <th>...</th>\n",
       "      <td>...</td>\n",
       "    </tr>\n",
       "    <tr>\n",
       "      <th>172</th>\n",
       "      <td>PalpitationSlight751</td>\n",
       "    </tr>\n",
       "    <tr>\n",
       "      <th>173</th>\n",
       "      <td>Cognitively_Absurd</td>\n",
       "    </tr>\n",
       "    <tr>\n",
       "      <th>174</th>\n",
       "      <td>_un1ty</td>\n",
       "    </tr>\n",
       "    <tr>\n",
       "      <th>175</th>\n",
       "      <td>killerlumberjack</td>\n",
       "    </tr>\n",
       "    <tr>\n",
       "      <th>176</th>\n",
       "      <td>OttoKretschmer</td>\n",
       "    </tr>\n",
       "  </tbody>\n",
       "</table>\n",
       "<p>177 rows × 1 columns</p>\n",
       "</div>"
      ],
      "text/plain": [
       "                User Name\n",
       "0      Proud_Echidna_4960\n",
       "1           raisinindasun\n",
       "2    American-_-Nightmare\n",
       "3    Aegeblomme_MinouKane\n",
       "4               Reghretti\n",
       "..                    ...\n",
       "172  PalpitationSlight751\n",
       "173    Cognitively_Absurd\n",
       "174                _un1ty\n",
       "175      killerlumberjack\n",
       "176        OttoKretschmer\n",
       "\n",
       "[177 rows x 1 columns]"
      ]
     },
     "execution_count": 315,
     "metadata": {},
     "output_type": "execute_result"
    }
   ],
   "source": [
    "openness_data = {}\n",
    "openness_df = pd.DataFrame(openness_data)\n",
    "openness_user_names = []\n",
    "\n",
    "subreddit_search = subreddit.search(\"openness\", limit = None)\n",
    "for post in subreddit_search:\n",
    "    openness_user_names.append(post.author.name)\n",
    "\n",
    "# Get unique only\n",
    "openness_user_names = list(set(openness_user_names)) \n",
    "\n",
    "openness_df['User Name'] = openness_user_names\n",
    "openness_df"
   ]
  },
  {
   "attachments": {},
   "cell_type": "markdown",
   "metadata": {},
   "source": [
    "### Agreeableness Posts"
   ]
  },
  {
   "cell_type": "code",
   "execution_count": 316,
   "metadata": {},
   "outputs": [
    {
     "data": {
      "text/html": [
       "<div>\n",
       "<style scoped>\n",
       "    .dataframe tbody tr th:only-of-type {\n",
       "        vertical-align: middle;\n",
       "    }\n",
       "\n",
       "    .dataframe tbody tr th {\n",
       "        vertical-align: top;\n",
       "    }\n",
       "\n",
       "    .dataframe thead th {\n",
       "        text-align: right;\n",
       "    }\n",
       "</style>\n",
       "<table border=\"1\" class=\"dataframe\">\n",
       "  <thead>\n",
       "    <tr style=\"text-align: right;\">\n",
       "      <th></th>\n",
       "      <th>User Name</th>\n",
       "    </tr>\n",
       "  </thead>\n",
       "  <tbody>\n",
       "    <tr>\n",
       "      <th>0</th>\n",
       "      <td>Zestyclose-Tower3859</td>\n",
       "    </tr>\n",
       "    <tr>\n",
       "      <th>1</th>\n",
       "      <td>nationofcake</td>\n",
       "    </tr>\n",
       "    <tr>\n",
       "      <th>2</th>\n",
       "      <td>Proud_Echidna_4960</td>\n",
       "    </tr>\n",
       "    <tr>\n",
       "      <th>3</th>\n",
       "      <td>Logical_Row3506</td>\n",
       "    </tr>\n",
       "    <tr>\n",
       "      <th>4</th>\n",
       "      <td>Aegeblomme_MinouKane</td>\n",
       "    </tr>\n",
       "    <tr>\n",
       "      <th>...</th>\n",
       "      <td>...</td>\n",
       "    </tr>\n",
       "    <tr>\n",
       "      <th>166</th>\n",
       "      <td>Cognitively_Absurd</td>\n",
       "    </tr>\n",
       "    <tr>\n",
       "      <th>167</th>\n",
       "      <td>luckis4losersz</td>\n",
       "    </tr>\n",
       "    <tr>\n",
       "      <th>168</th>\n",
       "      <td>_un1ty</td>\n",
       "    </tr>\n",
       "    <tr>\n",
       "      <th>169</th>\n",
       "      <td>killerlumberjack</td>\n",
       "    </tr>\n",
       "    <tr>\n",
       "      <th>170</th>\n",
       "      <td>OttoKretschmer</td>\n",
       "    </tr>\n",
       "  </tbody>\n",
       "</table>\n",
       "<p>171 rows × 1 columns</p>\n",
       "</div>"
      ],
      "text/plain": [
       "                User Name\n",
       "0    Zestyclose-Tower3859\n",
       "1            nationofcake\n",
       "2      Proud_Echidna_4960\n",
       "3         Logical_Row3506\n",
       "4    Aegeblomme_MinouKane\n",
       "..                    ...\n",
       "166    Cognitively_Absurd\n",
       "167        luckis4losersz\n",
       "168                _un1ty\n",
       "169      killerlumberjack\n",
       "170        OttoKretschmer\n",
       "\n",
       "[171 rows x 1 columns]"
      ]
     },
     "execution_count": 316,
     "metadata": {},
     "output_type": "execute_result"
    }
   ],
   "source": [
    "agreeableness_data = {}\n",
    "agreeableness_df = pd.DataFrame(agreeableness_data)\n",
    "agreeableness_user_names = []\n",
    "\n",
    "subreddit_search = subreddit.search(\"agreeableness\", limit = None)\n",
    "for post in subreddit_search:\n",
    "    agreeableness_user_names.append(post.author.name)\n",
    "\n",
    "# Get unique only\n",
    "agreeableness_user_names = list(set(agreeableness_user_names)) \n",
    "\n",
    "agreeableness_df['User Name'] = agreeableness_user_names\n",
    "agreeableness_df"
   ]
  },
  {
   "attachments": {},
   "cell_type": "markdown",
   "metadata": {},
   "source": [
    "### Conscientiousness Posts"
   ]
  },
  {
   "cell_type": "code",
   "execution_count": 317,
   "metadata": {},
   "outputs": [
    {
     "data": {
      "text/html": [
       "<div>\n",
       "<style scoped>\n",
       "    .dataframe tbody tr th:only-of-type {\n",
       "        vertical-align: middle;\n",
       "    }\n",
       "\n",
       "    .dataframe tbody tr th {\n",
       "        vertical-align: top;\n",
       "    }\n",
       "\n",
       "    .dataframe thead th {\n",
       "        text-align: right;\n",
       "    }\n",
       "</style>\n",
       "<table border=\"1\" class=\"dataframe\">\n",
       "  <thead>\n",
       "    <tr style=\"text-align: right;\">\n",
       "      <th></th>\n",
       "      <th>User Name</th>\n",
       "    </tr>\n",
       "  </thead>\n",
       "  <tbody>\n",
       "    <tr>\n",
       "      <th>0</th>\n",
       "      <td>Proud_Echidna_4960</td>\n",
       "    </tr>\n",
       "    <tr>\n",
       "      <th>1</th>\n",
       "      <td>raisinindasun</td>\n",
       "    </tr>\n",
       "    <tr>\n",
       "      <th>2</th>\n",
       "      <td>Emma_Oakley</td>\n",
       "    </tr>\n",
       "    <tr>\n",
       "      <th>3</th>\n",
       "      <td>abbyrosalina</td>\n",
       "    </tr>\n",
       "    <tr>\n",
       "      <th>4</th>\n",
       "      <td>Luster-Star</td>\n",
       "    </tr>\n",
       "    <tr>\n",
       "      <th>...</th>\n",
       "      <td>...</td>\n",
       "    </tr>\n",
       "    <tr>\n",
       "      <th>160</th>\n",
       "      <td>lR5Yl</td>\n",
       "    </tr>\n",
       "    <tr>\n",
       "      <th>161</th>\n",
       "      <td>Cognitively_Absurd</td>\n",
       "    </tr>\n",
       "    <tr>\n",
       "      <th>162</th>\n",
       "      <td>_un1ty</td>\n",
       "    </tr>\n",
       "    <tr>\n",
       "      <th>163</th>\n",
       "      <td>killerlumberjack</td>\n",
       "    </tr>\n",
       "    <tr>\n",
       "      <th>164</th>\n",
       "      <td>OttoKretschmer</td>\n",
       "    </tr>\n",
       "  </tbody>\n",
       "</table>\n",
       "<p>165 rows × 1 columns</p>\n",
       "</div>"
      ],
      "text/plain": [
       "              User Name\n",
       "0    Proud_Echidna_4960\n",
       "1         raisinindasun\n",
       "2           Emma_Oakley\n",
       "3          abbyrosalina\n",
       "4           Luster-Star\n",
       "..                  ...\n",
       "160               lR5Yl\n",
       "161  Cognitively_Absurd\n",
       "162              _un1ty\n",
       "163    killerlumberjack\n",
       "164      OttoKretschmer\n",
       "\n",
       "[165 rows x 1 columns]"
      ]
     },
     "execution_count": 317,
     "metadata": {},
     "output_type": "execute_result"
    }
   ],
   "source": [
    "conscientiousness_data = {}\n",
    "conscientiousness_df = pd.DataFrame(conscientiousness_data)\n",
    "conscientiousness_user_names = []\n",
    "\n",
    "subreddit_search = subreddit.search(\"conscientiousness\", limit = None)\n",
    "for post in subreddit_search:\n",
    "    conscientiousness_user_names.append(post.author.name)\n",
    "\n",
    "# Get unique only\n",
    "conscientiousness_user_names = list(set(conscientiousness_user_names)) \n",
    "\n",
    "conscientiousness_df['User Name'] = conscientiousness_user_names\n",
    "conscientiousness_df"
   ]
  },
  {
   "attachments": {},
   "cell_type": "markdown",
   "metadata": {},
   "source": [
    "# Format Data"
   ]
  },
  {
   "attachments": {},
   "cell_type": "markdown",
   "metadata": {},
   "source": [
    "## Create User Class"
   ]
  },
  {
   "cell_type": "code",
   "execution_count": 318,
   "metadata": {},
   "outputs": [],
   "source": [
    "import json\n",
    "from json import JSONEncoder\n",
    "from enum import Enum\n",
    "from typing import Any\n",
    "\n",
    "class Personality(Enum):\n",
    "    EXTRAVERSION = 1,\n",
    "    NEUROTICISM = 2,\n",
    "    OPENNESS = 3,\n",
    "    AGREEABLENESS = 4,\n",
    "    CONSCIENTIOUSNESS = 5\n",
    "\n",
    "class User:\n",
    "    def __init__(self, data_string, personality_type):\n",
    "        self.data = data_string\n",
    "        self.personality = personality_type\n",
    "    def __str__(self):\n",
    "        return str(self.personality) + \"\\n \" +  str(self.data)\n",
    "    \n",
    "# Define a custom encoder for the class and enum\n",
    "class MyEncoder(json.JSONEncoder):\n",
    "    def default(self, obj):\n",
    "        if isinstance(obj, User):\n",
    "            return {'__class__': 'User',\n",
    "                    'data': obj.data,\n",
    "                    'personality': obj.personality.name}\n",
    "        if isinstance(obj, Enum):\n",
    "            return obj.name\n",
    "        return json.JSONEncoder.default(self, obj)\n"
   ]
  },
  {
   "attachments": {},
   "cell_type": "markdown",
   "metadata": {},
   "source": [
    "## Get User String Data"
   ]
  },
  {
   "cell_type": "code",
   "execution_count": 319,
   "metadata": {},
   "outputs": [],
   "source": [
    "def getUserStringData(username):\n",
    "    string_data = \"\"\n",
    "    user = reddit.redditor(username)\n",
    "    \n",
    "    posts = list(user.submissions.new(limit = None))\n",
    "    comments = list(user.comments.new(limit=None))\n",
    "    if len(comments) < 5 and len(posts) < 5:\n",
    "        return \"\"\n",
    "    \n",
    "    # filter posts\n",
    "    for post in posts:\n",
    "        string_data += post.title\n",
    "        string_data += \"\\n\" + post.selftext\n",
    "\n",
    "    # filter comments\n",
    "    for comment in comments:\n",
    "        string_data += str(comment.body)\n",
    "        string_data += \"\\n\\n\"\n",
    "    string_data = string_data.replace(\"\\n\\n&#x200B;\\n\\n\", \" \\n \")\n",
    "    string_data = string_data.replace(\"&#x200B;\", \" \\n\")\n",
    "    \n",
    "    return string_data\n"
   ]
  },
  {
   "cell_type": "code",
   "execution_count": 320,
   "metadata": {},
   "outputs": [],
   "source": [
    "from prawcore.exceptions import Forbidden\n",
    "\n",
    "users = {}\n",
    "\n",
    "# Add users from any group\n",
    "def addUserDict(users_list, personality_type):\n",
    "    for username in users_list:\n",
    "        try:\n",
    "            user_string_data = getUserStringData(username)\n",
    "            if user_string_data == \"\":\n",
    "                users_list.remove(username)\n",
    "                continue\n",
    "            user_data_object = User(user_string_data, personality_type)\n",
    "            users[str(username) + f\"{personality_type}\"[11:].lower()] = user_data_object\n",
    "        except Forbidden:\n",
    "            print(\"ERROR: USER/COMMENT NOT FOUND\\n\\n\")\n",
    "          \n",
    "# test = [\"Zestyclose-Tower3859\", \"Proud_Echidna_4960\", \"nationofcake\", \"Emma_Oakley\", \"Reghretti\"]\n",
    "# addUserDict(test, Personality.OPENNESS)"
   ]
  },
  {
   "cell_type": "code",
   "execution_count": 321,
   "metadata": {},
   "outputs": [
    {
     "name": "stdout",
     "output_type": "stream",
     "text": [
      "ERROR: USER/COMMENT NOT FOUND\n",
      "\n",
      "\n",
      "ERROR: USER/COMMENT NOT FOUND\n",
      "\n",
      "\n",
      "ERROR: USER/COMMENT NOT FOUND\n",
      "\n",
      "\n",
      "ERROR: USER/COMMENT NOT FOUND\n",
      "\n",
      "\n",
      "ERROR: USER/COMMENT NOT FOUND\n",
      "\n",
      "\n",
      "ERROR: USER/COMMENT NOT FOUND\n",
      "\n",
      "\n",
      "ERROR: USER/COMMENT NOT FOUND\n",
      "\n",
      "\n",
      "ERROR: USER/COMMENT NOT FOUND\n",
      "\n",
      "\n",
      "ERROR: USER/COMMENT NOT FOUND\n",
      "\n",
      "\n",
      "ERROR: USER/COMMENT NOT FOUND\n",
      "\n",
      "\n",
      "ERROR: USER/COMMENT NOT FOUND\n",
      "\n",
      "\n",
      "ERROR: USER/COMMENT NOT FOUND\n",
      "\n",
      "\n",
      "ERROR: USER/COMMENT NOT FOUND\n",
      "\n",
      "\n",
      "ERROR: USER/COMMENT NOT FOUND\n",
      "\n",
      "\n",
      "ERROR: USER/COMMENT NOT FOUND\n",
      "\n",
      "\n",
      "ERROR: USER/COMMENT NOT FOUND\n",
      "\n",
      "\n",
      "ERROR: USER/COMMENT NOT FOUND\n",
      "\n",
      "\n",
      "ERROR: USER/COMMENT NOT FOUND\n",
      "\n",
      "\n",
      "ERROR: USER/COMMENT NOT FOUND\n",
      "\n",
      "\n",
      "ERROR: USER/COMMENT NOT FOUND\n",
      "\n",
      "\n",
      "ERROR: USER/COMMENT NOT FOUND\n",
      "\n",
      "\n",
      "ERROR: USER/COMMENT NOT FOUND\n",
      "\n",
      "\n",
      "ERROR: USER/COMMENT NOT FOUND\n",
      "\n",
      "\n",
      "ERROR: USER/COMMENT NOT FOUND\n",
      "\n",
      "\n",
      "ERROR: USER/COMMENT NOT FOUND\n",
      "\n",
      "\n",
      "ERROR: USER/COMMENT NOT FOUND\n",
      "\n",
      "\n",
      "ERROR: USER/COMMENT NOT FOUND\n",
      "\n",
      "\n",
      "ERROR: USER/COMMENT NOT FOUND\n",
      "\n",
      "\n",
      "ERROR: USER/COMMENT NOT FOUND\n",
      "\n",
      "\n",
      "ERROR: USER/COMMENT NOT FOUND\n",
      "\n",
      "\n",
      "ERROR: USER/COMMENT NOT FOUND\n",
      "\n",
      "\n",
      "ERROR: USER/COMMENT NOT FOUND\n",
      "\n",
      "\n",
      "ERROR: USER/COMMENT NOT FOUND\n",
      "\n",
      "\n",
      "ERROR: USER/COMMENT NOT FOUND\n",
      "\n",
      "\n",
      "ERROR: USER/COMMENT NOT FOUND\n",
      "\n",
      "\n",
      "ERROR: USER/COMMENT NOT FOUND\n",
      "\n",
      "\n",
      "ERROR: USER/COMMENT NOT FOUND\n",
      "\n",
      "\n",
      "ERROR: USER/COMMENT NOT FOUND\n",
      "\n",
      "\n",
      "ERROR: USER/COMMENT NOT FOUND\n",
      "\n",
      "\n",
      "ERROR: USER/COMMENT NOT FOUND\n",
      "\n",
      "\n",
      "ERROR: USER/COMMENT NOT FOUND\n",
      "\n",
      "\n",
      "ERROR: USER/COMMENT NOT FOUND\n",
      "\n",
      "\n",
      "ERROR: USER/COMMENT NOT FOUND\n",
      "\n",
      "\n",
      "ERROR: USER/COMMENT NOT FOUND\n",
      "\n",
      "\n",
      "ERROR: USER/COMMENT NOT FOUND\n",
      "\n",
      "\n",
      "ERROR: USER/COMMENT NOT FOUND\n",
      "\n",
      "\n"
     ]
    }
   ],
   "source": [
    "addUserDict(neuroticism_user_names, Personality.NEUROTICISM)\n",
    "addUserDict(extraversion_user_names, Personality.EXTRAVERSION)\n",
    "addUserDict(openness_user_names, Personality.OPENNESS)\n",
    "addUserDict(agreeableness_user_names, Personality.AGREEABLENESS)\n",
    "addUserDict(conscientiousness_user_names, Personality.CONSCIENTIOUSNESS)\n"
   ]
  },
  {
   "attachments": {},
   "cell_type": "markdown",
   "metadata": {},
   "source": [
    "# Save Data"
   ]
  },
  {
   "cell_type": "code",
   "execution_count": 322,
   "metadata": {},
   "outputs": [],
   "source": [
    "# Save the dictionary to a file\n",
    "with open('users.json', 'w') as f:\n",
    "    json.dump(users, f, cls=MyEncoder, indent=4)"
   ]
  },
  {
   "attachments": {},
   "cell_type": "markdown",
   "metadata": {},
   "source": [
    "# Load Data from Json File"
   ]
  },
  {
   "cell_type": "code",
   "execution_count": 336,
   "metadata": {},
   "outputs": [
    {
     "name": "stdout",
     "output_type": "stream",
     "text": [
      "643\n",
      "<class 'dict'>\n"
     ]
    }
   ],
   "source": [
    "import json\n",
    "\n",
    "data = \"\"\n",
    "# Load the dictionary from the file\n",
    "with open('users.json', 'r') as f:\n",
    "    data = json.load(f)\n",
    "\n",
    "# Convert the dictionary back to objects\n",
    "def my_object_hook(dct):\n",
    "    if '__class__' in dct:\n",
    "        if dct['__class__'] == 'MyClass':\n",
    "            return User(dct['data'], Personality[dct['personality']])\n",
    "    return dct\n",
    "\n",
    "# Convert the dictionary back to objects\n",
    "users = json.loads(json.dumps(data), object_hook=my_object_hook)\n",
    "\n",
    "# Print the loaded dictionary\n",
    "print(len(users))\n",
    "print(type(users))"
   ]
  },
  {
   "attachments": {},
   "cell_type": "markdown",
   "metadata": {},
   "source": [
    "When the json file is read to retrieve \"users\", the User class is read as a dict and not an object. \n",
    "\n",
    "This means the way to access its data is to use these keys: '__class__', 'data', 'personality'.\n",
    "\n",
    "The '__class__' key returns User (the name of the class). The 'data' returns the data string. The 'personality' key returns the personality as a string. "
   ]
  },
  {
   "cell_type": "code",
   "execution_count": 337,
   "metadata": {},
   "outputs": [
    {
     "data": {
      "text/plain": [
       "{'__class__': 'User',\n",
       " 'data': 'Solving Pelvic Floor problems with stretches, lifestyle changes, etc?\\nHas anybody here actually solved their pelvic floor problems and symptoms (constipation, pain, etc) by changes in diet, lifestyle, and using pelvic floor stretches? \\n\\nBiofeedback therapy is not within my reach for now, so I was hoping to do what I can to help alleviate my problem. Any insights would be highly appreciated.Going to a pelvic floor therapist?\\nHi there. \\n\\nI\\'m planning to go to a pelvic floor therapist because of constipation symptoms that point out to dyssynergia. How do they diagnose if you have dyssynergic defecation? Does it require anorectal manometry? I\\'m asking because anorectal manometry is extremely expensive here in my country so I\\'m hoping they just stick a finger or something instead.Solfigreen users here?\\nHi there, \\n\\nMy motility expert doctor recommended to me a supplement of sorts that came from Japan. It\\'s just all natural, lots of fiber in it. I had regular BMs after taking this since around July. I\\'m hoping it doesn\\'t stop working since it\\'s just fiber and there\\'s really nothing special in it. I was prescribed to take it for life so I think this is really my equilibrium drug.   \\n\\n\\nI\\'m just wondering are there any other users of this particular supplement here? I think it\\'s mostly popular in Asia.[Serious] People who\\'ve woken up from a coma of more than a year, how are you now?\\nGallbladder polyps\\nHi there,\\n\\nJust a little background, I was having abdominal pains caused by acid and was put on Pariet that seemed to work a little bit. However, after the fourth day on a double dose of 20mg, I was still in pain so I decided to go to another gastroenterologist, who advised me to get an abdominal ultrasound. Two days passed, the pain stopped. Then I got the ultrasound.\\n\\nToday, my ultrasound showed that I had multiple polyps in my gallbladder that range in sizes of 0.17cm to 0.37cm. The doctor said it\\'s nothing serious and has nothing to do with the abdominal pains I was having. He advised me to continue with the acidity medications for two weeks and we\\'ll see from there. \\n\\nI\\'m terrified and confused - this is beyond me. I would highly appreciate any input from people who\\'ve had this before. Would you find a different doctor if it were you? I\\'m afraid that this is cancer. \\n Thank you.How does a pelvic floor specialist diagnose for a pelvic floor dysfunction?\\nHi there, \\n\\nFor the past 7 months, I\\'ve been having chronic constipation and the symptoms point to PFD. I\\'ve been seeing a gastroenterologist but the process is not too helpful. I\\'m thinking of seeing a pelvic floor specialist instead. Does anyone know how they would diagnose if I have PFD? Thoughts and answers would be highly appreciated.  \\n Thank you.[QUESTION] What guitar size would be best in your opinion?\\n[removed]How to stop myself from buying a new guitar\\n[removed]Itopride (Ganaton) medications opinions?\\nHi there, \\n\\nSo I just had my barium enema and the motility doctor said there\\'s nothing wrong anatomically with my colon. Everything seems to be in tip top shape. However, she put me on medications for one month and wants me to observe how my body will react to Itopride and Solfigreen (probiotic and psyllium fiber). \\n\\nHave you heard of Itopride before? Has anybody been put into this type of medication? I have chronic constipation and this is what I\\'m told. Although I do trust my doctor, I would highly appreciate any input from anyone who\\'s had this medication.Anorectal Manometry preparation\\nHi folks,\\n\\nI\\'m still going to have to get a barium enema then possibly an anorectal manometry but I\\'m curious - how do you prepare yourself for an anorectal manometry? Do you purge through laxatives? What does the doctor recommend you to do? Please don\\'t tell me I have to perform an enema on myself.Constipation that comes and goes?\\nHi there, \\n\\nOn Monday, I went to the motility expert and the doctor told me that I had tight anal sphincters. I\\'m supposed to get a barium enema for next week just to check my colon\\'s anatomy and then maybe after that, we\\'ll proceed with an anal manometry. However, after that visit, I was able to have regular bowel movements. It\\'s been five days already and I was able to poop everyday since the visit. And I hadn\\'t used a laxative which is a miracle. My diet is still semi clean but because I stopped caring too much, it\\'s not that strict. \\n\\nA little history, before I went to the motility expert, I went through four doctors who couldn\\'t pinpoint what was wrong with me. The last one suspected that I had tight anal sphincters that\\'s why he referred me to the motility expert but that\\'s it. Since the first GI, I wasn\\'t able to poop without any laxative.  \\n Here are some changes that happened after the visit with my motility expert: \\n\\n1.) My troubled relationship was mended and had a resolution. \\n\\n2.) I took a two-week leave from my two jobs and had a hiatus from my commitment to my record label. \\n\\n3.) I just stopped caring about my condition and didn\\'t think about it anymore. Watched anime all day and did my hobbies and things that made me excited about life.  \\n I\\'m perplexed. Are there cases where everything is psychological and was just fixed when the stressors were removed? I think I\\'m going nuts - it\\'s making me anxious.Agreeableness and neuroticism\\nHi there, \\n So a couple of months ago, I took a detailed Big Five Personality test (IPIP 300) and I got really low results on agreeableness (4th percentile) and very high results on neuroticism (97th percentile).\\n\\nI think this is what\\'s causing me to be in conflict with a lot of people. I\\'m trying hard but I just can\\'t seem to like people, even my colleagues and friends. And then I feel really bad about not liking them or a negative interaction would stay with me for a long time.\\n\\nAnyone out here with somewhat similar personality dimensions? How do I be more agreeable and less neurotic? Any advice would be highly appreciated.Biofeedback questions\\nHi there, \\n\\nI\\'m new to this subreddit. I\\'m in the process of identifying my problem but the doctor suspects I have tight anal sphincters caused by PFD. I might have an anorectal manometry in the next week after my barium enema.  \\n I\\'m just wondering, because I\\'m looking far ahead into my sickness since I don\\'t have insurance and have to pay everything out of pocket, how much did biofeedback change your condition? Did you go back to normal completely? If so, how many sessions did it take? Also, in your area, how much is per session of biofeedback? (I\\'m just curious to know the rough prices). \\n Thank you!Barium Enema\\nHi folks, \\n\\nSo today  I had an appointment with my new doctor who\\'s a motility expert. She confirmed that I did have tight anal sphincters but first wanted to know the anatomy of my colon - she wanted to know if it\\'s possible that I have a repetitive colon. \\n\\nSo the first step of this grueling treatment is a barium enema. And just by reading it, saying that it\\'s fucking unpleasant is probably an understatement. \\n\\nHere are my questions: \\n\\n1.) For those who have experienced it, is it painful? How was it? I\\'m way beyond being embarrassed now but I\\'m worried about pain. I don\\'t have that much tolerance for it, especially for things being inserted in my butt. \\n\\n2.) For those who have had biofeedback, has it brought your life back to normal? I realize there\\'s one person here who has had it already and it said it didn\\'t work for them. But is there anyone who\\'s had it and got positive results?  \\n Thank you.Biofeedback questions\\nHi folks,  \\n I\\'m wondering, how much does a biofeedback session cost (1 session) without insurance in your area? I know it\\'ll be quite different from where I\\'m from but I would like to at least have a rough idea.  \\n Also, how many sessions did it take to see actual improvement from this treatment? I know it\\'ll probably differ between different people but again, I would just like to get a rough idea of this.  \\n Thank you.Colonoscopy vs. Ultrasound\\nHi folks,\\n\\nI was wondering what\\'s more effective between the two in detecting polyps in the colon? I have these two options right now before I head over to the motility expert and I was wondering what would help the expert identify my problem more accurately. (Colonoscopy is more invasive and way more expensive where I am so I would really just prefer an ultrasound. But if that\\'s not accurate enough, I wouldn\\'t really bother with it).\\n\\nThe thing is, I\\'ve already done a Fecal Occult Blood test with a negative result so the doctor suspects there\\'s not really a tumor or polyp but they wanted to check nonetheless.A good day\\nI just wanted to share my experience with my second GI.\\n\\nPreviously with my first GI, I was diagnosed with IBS-C which I thought was bullshit so I asked for your opinion and what I got was I could possibly have PFD or something wrong with the anal musculature. When I told my second GI about the symptoms, he checked, and lo and behold, my anal sphincters were tight and possibly preventing my bowel movements. I asked him what might be the reason and he didn\\'t wanna give me an answer because he said he didn\\'t know - in my experience with the medical system, this is fucking rare.\\n\\nIn the end, I\\'m still supposed to have a colonoscopy (like what my first GI suggested) because I have a family history of colon problems but the good news is he referred me to the country\\'s foremost specialist in motility disorders (this person wasn\\'t even coming up in my attempts at Google searches). So it\\'s a massive step towards getting better and I can\\'t thank this subreddit enough - if I had gone there without knowing anything about my problem or how to advocate strongly for my health, the result might have been entirely different. \\n Thanks fellow buttholes.Frustrations and hopelessness\\nHey folks who prolly have gone through what I\\'m going through right now. \\n\\nI\\'ve been dealing with this problem for more than six months now and it\\'s gotten to the point where I\\'m thinking about suicide. I\\'m not gonna do it because I\\'m still completely rational but it\\'s just suddenly crossed my mind.  \\n What frustrates me too is that the people around me are completely insensitive, dismissive, and unempathetic. It\\'s frustrating. I know I shouldn\\'t blame them but it\\'s just hard to be optimistic when people tell you you\\'re just \"overthinking.\" I feel like exploding. Also, as someone with an anxiety disorder, it\\'s making life really hard.  \\n My question is what do you do to keep your head up in times like these? How do you stay optimistic and keep on doing the things you used to do?Colonoscopy\\nHi there.\\n\\nToday, I was diagnosed with IBS-C after seeing the results of my TSH and Fecal Occult Blood test (normal and negative, respectively). When we were discussing what to do to move forward, my specialist suggested that I think about having a colonoscopy, just to make sure that everything is indeed clear, but she was quite certain it was IBS-C. I suggested that perhaps we should look first into the muscles surrounding the anus, rectal, etc. (I could not for the life of me remember that the test I wanted done was anorectal manometry), she told me that everything can be easily seen through the colonoscopy (including the muscles that I was referring to).\\n\\nWhat do you guys think about this? I\\'m planning on getting a second opinion from another GI from the same hospital but it\\'s just I doubt the test itself is available here. Right now, a motility clinic is 60km away and the restrictions here in my country are still notorious.Advice on finding a motility expert\\nHi there,\\n\\nI\\'d really appreciate it if you can point me to a motility expert that does video consultations online (if there are any). You see, I live in the Philippines in a remote town (chose to live here for the nature) and it\\'s tough finding a specialist near me, even on the internet. I do have a gastroenterologist right now who I\\'ll be having a follow-up check-up next week but I kinda wanna broaden my options right now. I feel a little less hopeless when I\\'ve got the next step listed. I think I would have to resort to finding a good doc overseas.\\n\\nThank you! \\n  \\n\\n\\nAlso, I\\'m kinda nervous at what my GI would say to me. I recently got a TSH test and a Occult blood and they were normal and negative respectively, and I\\'ve yet to show it to my GI. We\\'ll be discussing it in the follow-up check-up. I fucking hope they don\\'t tell me to eat more fiber again or I\\'m gonna lose my shit.It\\'s cheesy as fuck but I love it. Please write more about them haha.  \\n I got so many questions. Why is she such a bitch? What\\'s she hiding? Is she actually in despair?  \\n What about Jack? I want to know more about his life.\\n\\nAs sad as it is, I haven\\'t had sex in nearly three years (depression meds don\\'t help) and I\\'m still having issues with constipation. but I\\'ll surely look into that. Thanks for responding!\\n\\nThank you for the response!   \\n\\n\\nMay I ask how I can approach a pelvic floor PT? Do I just rock up to a hospital and ask for one or are you guys called with a different name? I\\'m asking because last time I asked for a pelvic floor specialist, I was referred to an orthopaedic surgeon, so I\\'m not sure if I\\'m in the right direction. \\n\\nAlthough I\\'m speaking with a gastroenterologist now\\n\\nThank you! That gives me hope. By the way, how are you now? Any improvements in your condition?\\n\\nSo you were able to be diagnosed with just by hand?  \\n I\\'m worried because I feel like I have PFD but the anorectal manometry, the machine that diagnosis this condition usually used by gastroenterologists is fucking expensive in my country. So I\\'m hoping I could get a definitive diagnosis without having to go through the manometry.\\n\\nThanks for responding and giving your opinion. \\n\\nHow are you now? What treatment have you been doing? Have they been helpful to you?  \\n I\\'m quite desperate now so any tips would be highly appreciated.\\n\\nHi there, \\n\\nHow are you now? Did your situation improve from the botox injections?\\n\\nOh that\\'s a relief to know. My doc is a genius but she\\'s the stoic type so I don\\'t know what to ask and she doesn\\'t explain much either lol\\n\\nI\\'m guessing it works because my condition is very mild. Hopefully, this post helps someone out there with something as mild as well (just for more options I guess)\\n\\nThat\\'s sad to hear. Were you close to her? Are you still in touch with her? \\n Thanks for your response by the way.\\n\\nThanks! What\\'s your plan? Do you plan on getting an ultrasound every 2-4 weeks?\\n\\nAwesome. I appreciate your reply!\\n\\nThat\\'s all they did? No anorectal manometry? \\n I\\'m asking because that procedure is ridiculously expensive in my country.\\n\\nThanks for responding! \\n How are you now? How is your treatment going?\\n\\nThanks for the recommendation!\\n\\nAhh well, unfortunately, I live in a third world country where healthcare is almost nonexistent. People die here because they can\\'t pay their hospital bills. The cost of treatment is my biggest obstacle, really.\\n\\nI have not seen a pelvic floor PT yet but that\\'s quickly becoming an option. Do you have any idea how they diagnose constipation and provide treatment? My symptoms point to pelvic floor dysfunction and I\\'m wondering if I should see a PT instead of a gastroenterologist.\\n\\nI think this is quite similar to my condition. I would advise you to seek a gastroenterologist who specializes in motility disorders (not just regular gastroenterologists). There\\'s also a lot of help that you can get from this subreddit r/ConstipationAdvice\\n\\nI\\'m assuming you\\'re having trouble with your agreeableness. But it could be a number of things too - you\\'re pretty low in extraversion, so that could also contribute to your relationships suffering. You\\'re very creative and hardworking though, so that\\'s very good. \\n I\\'m fully aware of the studies that show personality being pretty much unchangeable but as someone who\\'s on the other end of the spectrum of the agreeableness scale who refuses to do nothing about it, I believe what\\'s helping me is (1), self-awareness, and (2) surrounding myself with people opposite of my personality. I surround myself with people who are highly agreeable and learn from them like a fucking android that just arrived on earth. It\\'s not gonna change my personality but at least it\\'s going to change my behavior or how other people perceive me. \\n Oh also, boxing. It\\'s a competitive contact sport that requires you to hurt other people. That oughta help ya.\\n\\nHow many guitars do you own?\\n\\nGot hired for a job I really like and signed with a really good independent record label and got to work directly with my musical hero.\\n\\nHow do you think this affected your relationships with other people? I\\'m curious to know. \\n\\nAs someone with 4th percentile agreeableness, I\\'m already having a difficult time creating and maintaining relationships. \\n\\nAlso, how old are you?\\n\\nPerhaps this is not very accurate, especially the agreeableness part. Maybe you were feeling particularly down or frustrated when you answered this (because you mentioned you failed 5 times in a row). \\n\\nThe agreeableness score is too extreme - something you should be careful with. It\\'s a good predictor for criminal behavior (psychopathic and or narcissism, especially with a high score for extraversion) and unemployment  (I know, I scored 4th on the damn scale). It can be a very miserable thing if you\\'re not careful. The difficulty with self-report tests is it can vary depending on a person\\'s mood.  \\n Aside from that, everything looks pretty decent actually.\\n\\nI see. Have you heard of the philosophy of stoicism? I feel like how you explained your coping mechanism is similar to what stoics say as \"Amor Fati\" which means to \"love one\\'s fate.\" I\\'ve been saying that a lot to myself lately (especially now that I\\'m also dealing with a chronic illness).  \\n Speaking of music, I\\'m a songwriter by the way and music has also been my lifeline. Would you mind if I send you a song (through DM) I released recently? Yes, I\\'ve achieved shameless status. But I guess I\\'m just trying to find likeminded people.\\n\\nThere are other forms of therapy. For some people, CBT and medications work very well. In my case, when I followed my psychiatrist\\'s advice, it was the best year for my brain.  \\n If you\\'re really struggling with finding a good professional because of finances, maybe it would help if you could get in a disability program if you haven\\'t yet (in my country, it\\'s called getting a PWD card). I\\'m not sure about where you are but I believe it\\'s quite standardized throughout the world - if you\\'re confirmed for a disability, you get massive discounts to things, even doctor consultations and professional help. I hope I don\\'t come across as condescending or insensitive here, these are simply things I wish someone would\\'ve told me when I was just starting to struggle with my mental health.\\n\\nThanks! The barium enema was pretty awful. Hurt quite a bit and took a long while. I haven\\'t had the anorectal manometry but I trust my doctor enough to follow through with the process. She put me on medications for a month so that\\'s my plan for now. Also, since I\\'ve removed my stressors, I\\'ve been able to be more regular - I think there\\'s a lot of psychological component with my condition.\\n\\n>You could also mention this in therapy, I am sure your therapist has resources or exercises on it!\\n\\nI see. Thanks! I\\'ll make a note of that.  \\n I mean your results - how do they affect your relationships? Are they more on the positive side? \\n\\nI feel like my low agreeableness makes me a very unlikely target for people to take advantage of. Everyone I meet is sketchy to me. But that\\'s made building relationships literally take years for me. My high neuroticism has not given me anything positive that I can recall. Perhaps I\\'m risk-averse so I\\'ll live longer? Lmao. But I\\'m also in the creative field so that\\'s kinda counterintuitive. So I think my results bring me more negatives than positives.\\n\\nYou\\'ve described it perfectly. \\n\\nI feel shameful that I can\\'t seem to get out of my own head. I\\'ve been practicing really hard to try and think about other people more - I even try to hang out more with agreeable people just so I can observe their behavior like a fucking android who\\'s just visited Earth.\\n\\n I\\'ve noticed that they think about other people A LOT. I was hanging out with my sister (who\\'s super agreeable) in the supermarket and she kept pointing to things and telling me \"Hey maybe your girlfriend would like this.\" \"I bet she\\'d love this.\" I\\'m perplexed she can think about someone\\'s needs that\\'s not even directly connected with her. \\n\\nHow do you manage your disposition? Therapy?\\n\\n>Do you have trouble understanding and respecting other peoples views?\\n\\nNot so much as having trouble understanding, I just think they\\'re wrong most of the time (sometimes, even stupid) so I\\'m always argumentative. And I can\\'t speak it in a way that isn\\'t offensive - I even feel good about it when the other person seems to be a little offended.\\n\\nAnd then I feel shameful and guilty because I feel \"petty\" for even arguing in the first place. I\\'ve grown to hate it because I realized I was subconsciously burning bridges. And I really felt how people don\\'t actually wanna hang out with me anymore. I\\'m surprised I even have a romantic relationship now, albeit, it\\'s rocky. \\n I\\'ve actually just booked an appointment for therapy today. Thanks for the suggestion!\\n\\nWhat\\'s the implication of having those scores on your relationships? That seems very ideal to me, especially the Neuroticism part.\\n\\nAhh that\\'s a great explanation. Thanks!\\n\\n>Intussusception at cecum\\n\\nActually, the test can see the entirety of the colon and can pinpoint whether it has an anatomical anomaly.\\n\\nCrap, this sounds scary. I was given a dose of 3 times a day. I would guess prucalopride isn\\'t actually available here yet.  \\n If this increases peristalsis, do you happen to know what\\'s the difference between this drug and a regular stimulant laxative? I mean effects-wise, if I\\'m making any sense at all.\\n\\nHave you tried therapy?\\n\\nOoof. that\\'s kinda expensive. How are you? How many sessions did you have to do?\\n\\nI do too. I had a friend within my circle that just couldn\\'t leave their emotionally abusive relationship because they loved the abuser too much. I\\'ve talked with them multiple times (even offered help) but they just wouldn\\'t help themselves. Even got offended a couple of times. I cut that idiot right out of my life. I don\\'t need that kind of person around me. \\n\\nBut nonetheless, I guess, I\\'ve learned to be more forgiving. It\\'s just the way it is man,  people are always biased anyways.\\n\\nMy bad, I think that might have been because I recently just added the results to my other tests. Initially, all I had were the results of N and A when I asked the question, but I do get your point.\\n\\nThe irony of my situation is my career seems to have taken its biggest breakthrough this year where there\\'s a pandemic. It\\'s just that my personal relationships keep on falling off the rails.\\n\\nI feel quite the same - I\\'m more comfortable with disagreeable people because they take criticisms well and they\\'re mostly honest with their feelings. But in the past years where I didn\\'t view my life through a magnifying lens, I\\'ve suffered so I figured I needed to make a change, and so here I am months into my journey.\\n\\nIt just freaks me out. Just thinking about having the barium enema gives me immense anxiety - I guess because I\\'ve been anal retentive for as long as I can remember so things being inserted in my butt seems daunting. And then doing the enema on my own is even more anxiety-inducing.\\n\\nOh Jesus\\n\\nThank you for the comprehensive answer. I\\'m glad you\\'re progressing through the ailment!\\n\\nHopefully I get a diagnosis soon too. What you\\'re describing to me sounds very similar to my case - the doctor found out my anal sphincters weren\\'t relaxing at all when I\\'m pushing for a bowel movement. But I gotta do the barium enema first before anything else.\\n\\nDid you have to administer it to yourself?\\n\\nThanks for your thoughts! \\n\\nHow are you now? How is your treatment plan if not biofeedback?\\n\\nDo they require you to drink that barium stuff after the enema? Or depends?  \\n Also, so drinking is a worse experience?\\n\\nHey there, how are you now? Did the biofeedback improve your condition? I think we may have a similar issue.\\n\\n \\n\\nThankfully, the work that I have doesn\\'t require me to interact with people - we just talk through chat, so I have that going for me because I don\\'t live in the United States.  \\n Also, do you happen to know what types of jobs are great for someone like me with these types of personality dimensions? I would like to think I\\'m highly creative (I have  a commitment to a record label as a songwriter but that doesn\\'t really make me any money yet so I guess I\\'m in the creative department) but even with creative work, it seems to me like I still really have to interact with a lot of people. Any tips would be highly appreciated!\\n\\nWill the motility expert also know if this is indeed idiopathic or do I approach a different doctor for this?\\n\\nI see. Thanks! I\\'ll still push through with the tests\\n\\nThank you for the answer! I\\'ll check those books out.\\n\\nI swear I heard that answer once already. Apparently, you can\\'t change your personality.\\n\\nGuess I\\'m disagreeable for a reason. \\n Thanks for the answer. This is the first time I\\'ve heard of it but I\\'ll check it out. It\\'s a long fucking read, but thank you!\\n\\nHi, thank you for your answer. \\n\\nYes, I\\'ve been diagnosed with general anxiety disorder and the doc gave me quietapine but I had to stop taking it because it makes me feel lethargic. But I agree, I\\'ll have to get help again. And yes, my life is completely dysfunctional, I feel bad for those around me. \\n\\nActually, I\\'ve been unemployed for almost a year before I found my current job (I\\'ve been on it for a year now). I couldn\\'t quite understand before why I was having such a difficult time finding one. But I guess that\\'s the main culprit.  \\n Thanks for your tips, I\\'ll try to keep things to myself a little more. (I quit a job once because I couldn\\'t take the workload and I felt that my workmates were shit).\\n\\nDid you have a long colon on top of PFD or just the long colon was the problem?\\n\\nThank you for your answer. It\\'s quite encouraging because I don\\'t really mind the cramping very much, it\\'s just the entire procedure gives me anxiety. But I\\'m way past being embarrassed and uncomfortable anyway so I\\'m gonna go ahead with this.  \\n With redundant colon, does that mean you get slow bowel movements even when you were young? What was your regular pooping schedule like?\\n\\nI\\'m sorry to hear that, it sounds more complicated than what I have, I think. What does your treatment plan look like now?\\n\\nI\\'ll put that up as a stickie over my desk. Or probably get one of those cheesy wall art with that written haha.\\n\\nThanks man. I\\'ve been overly anxious since leaving the hospital. I thought I was prepared to hear it but when my doctor said \"This is gonna be a long treatment.\" my heart still sank. And then I read about the barium enema process and it freaked me out even more.\\n\\nMay I know what your case is why it didn\\'t work?\\n\\nNo, I\\'m not in the US. I\\'m in the Philippines where healthcare assistance is basically non-existent. I\\'ve been checking out subreddits for financial assistance but it\\'s looking bleak. \\n What I can do right now is go straight to the motility specialist without having undergone a colonoscopy. My last GI referred me to this specialist because he suspected I have tight anal sphincters (possibly caused by PFD) but he wanted me first to get a colonoscopy. I\\'ve gotten an ultrasound (from a different doctor) and it\\'s cleared already. Also gotten a Fecal occult blood test and it\\'s negative. So the odds are actually pretty good that I don\\'t have any obstruction in the colon.\\n\\nI\\'d like your opinion on this since you\\'ve been through a lot of these tests. Would it be a good idea to go straight to the motility expert and ask for an anorectal manometry? or should I really absolutely have to get a colonoscopy first?\\n\\nDo you think it\\'s a bad idea to go to the motility expert without first getting a colonoscopy?\\n\\nI wanna have it but it\\'s just way too expensive for me. And the motility expert is a 60km drive from my town. It\\'s kinda wasteful if I just go there and they\\'d ask me to have a colonoscopy as well when I could have done it in my town. However, I\\'d like to get the anorectal manometry as soon as I can too and that\\'s only available with the motility expert.\\n\\nWhat happened during the ultrasound? Did they not find anything during the procedure but they found some during colonoscopy?\\n\\nNone, unfortunately. I just got out of college and my work doesn\\'t really pay that much, just enough to get by.\\n\\nI see. Thanks for the response, that\\'s helpful. I guess I\\'ll have to spend that extra buck (couple of thousands of bucks actually ) for the colonoscopy.\\n\\nThanks. But will an ultrasound at least be accurate enough to tell if there\\'s a polyp in the colon? What\\'s your experience with it?\\n\\nThank you for the response! I\\'ll talk about this with my doctor.\\n\\nSorry to hear about your experience. \\n\\nI don\\'t mean this to be offensive, but are you sure what you really have is IBS-C? In my experience with reading over forums, there\\'s a lot of misdiagnosis surrounding gastroenterology. I was also diagnosed with IBS-C by my first gastro and pretty much told the same thing you were told so I called bullshit and had a second diagnosis from a different gastro. Turns out, I had tight anal sphincters and I was referred to a motility specialist.\\n\\nI see. Thank you for the tips. \\n Yeah, I do feel a little bit more hopeful than the past few weeks, all thanks to you guys and this subreddit. It\\'s been a rollercoaster. I hope my post helps someone out there so they know how important a second opinion is, or how important it can be. Trust your gut (no pun intended; I was skeptical of my first diagnosis because of what I\\'ve read here. And true enough it was.) and ask people who\\'ve gone through what you\\'re going through.\\n\\nCrap, so what did they diagnose you if they didn\\'t entertain candida? Pelvic floor dysfunction?\\n\\nThat\\'s a relief. I just don\\'t like things being inserted in my butt.\\n\\nThanks. I learned in school. And also pretty much everything I consume is in English so it became second-nature.  \\n I see, I\\'m not sure about government grants but I\\'ll look into it. Another great tip. Thanks man, appreciate ya.\\n\\nCongrats! That\\'s awesome. Hope you get back to normal. \\n By the way, what was the colonoscopy experience like? Painful? Were you sedated?\\n\\nNo, unfortunately I don\\'t have insurance. I\\'m from the Philippines so the healthcare here is basically non-existent.\\n\\nYou were so on point and I can\\'t thank you enough. \\n At least for now, my biggest problem is the cost of treatment. But it\\'s within reach.\\n\\nThank you for your input.  \\n Are you still using Milk of Magnesia now?\\n\\nYeah of course, I think that\\'s what everybody should do. I\\'m skeptical with anything. Even to my probably highly trained GI. I really appreciate your knowledge though, at the very least you\\'re not dismissing my problems. \\n It\\'s just that I\\'ve been fucked up by the medical system for quite a while now that it\\'s easier to ask people who have actually gone through the problems than the doctors themselves (who are sometimes even dismissive).\\n\\nMay I ask what brand of Magnesium Citrate you used?\\n\\nThat really helps a lot actually, thanks!  \\n I have a question. At present, I have these three laxatives that I can choose from: \\n\\nBisacodyl\\n\\nMiralax\\n\\nMilk of magnesia. \\n\\nI\\'ve tried Bisacodyl and it works really well, but I\\'m afraid I might create a tolerance/dependence on it so I\\'m trying to take it once every two or three days except when I feel really bloated and shitty. What would you recommend between these three for daily or every other day use?\\n\\nThank you for the kind words. I was recently diagnosed with IBS-C as well, though I have my doubts and would be getting a second opinion, but now I\\'m quickly learning that it\\'s a struggle most people underestimate or brush off. \\n\\nThanks for the advice, I\\'ll check those subreddits out.\\n\\nI see. Thanks for your input. \\n\\nYeah, I was the one who posted yesterday about the Colonoscopy and you were the one who told me it might be Pelvic Floor dyssynergia (and provided me some tips on how I can get tests done with my GI and how to tell them to do their jobs, which I really appreciate). I\\'m usually optimistic but the past few nights have been horrible mentally and I find that I can\\'t do the things I used to do.  \\n How were you able to find the right doctor for you? Was it from a referral? Because I in my country, whenever I search for motility specialists, nobody comes up. They\\'re like an endangered species, I don\\'t even know if our country has one. My only option is to ask my current GI to refer me to one.\\n\\nThank you! I\\'ll ask that one. I\\'ll also make sure to know what their specialty is.\\n\\nI will, thank you.\\n\\nThanks for your input. I\\'ll be getting a second opinion from another GI before I go through that.\\n\\n>hat a colonoscopy does not measure any motility issues.\\n\\nShit. And here I was being straightforward with the doctor, asking her if the colonoscopy would be able to see if there are problems in the rectum/anal area and she said yes.\\n\\nI\\'ve been misdiagnosed all my life from skin disorders that turned out to be allergies and now to this. The fuck is up with the medical system. \\n  \\n\\n\\nThank you for your input. Really appreciate everything. I don\\'t feel so alone because of this subreddit.\\n\\nThank you for your responses folks. It\\'s been rather difficult but at least this gives me an outline on what to do moving forward.  \\n Really appreciate you guys!\\n\\nThank you for answering. Yes, I was very anal retentive back then. I feel absolutely no other pain besides the bloating and gas. No cramps or blood in the stool either.\\n\\nThanks for responding. \\n 1.) Do you have the urge to go, but you cannot? Or do you have zero urge to go? (this is the most important question)\\n\\n\\\\- Have the urge to go, but cannot.\\n\\n2.) Do you have alternating diarrhea and constipation, or just constipation?\\n\\n\\\\- Just constipation\\n\\n3.) Do you have nausea, vomiting, acid reflux, difficulty swallowing, or early satiety (getting full really early into a meal)?\\n\\n\\\\- None.\\n\\n4.) Have you had this issue since childhood, or did it begin in teen years/adulthood/after a major life event (surgery? divorce? car accident? mauled by bears?)\\n\\n\\\\- I\\'ve been constipated since I was a kid. This got worse right when I graduated college because I started working from home, then pandemic began and a sedentary routine began which led me to where I am right now. \\n EDIT: I can only remember being constipated when the trauma was happening when I was 12 years old. Before that, I can\\'t seem to recall if I was ever bothered by constipation. \\n\\n5.) Did you in the past or do you currently take any medications that could damage your intestines? The acne drug Accutane/Sotret/Claravis/many other names (isotretinoin) has been linked to serious conditions of the digestive tract. I am absolutely convinced that my large intestine was destroyed by this drug. Antibiotics are also a major culprit in ruining the small intestine microbiome and causing diarrhea/constipation disorders. Antidepressants can ruin the serotonin balance in the gut as well.\\n\\n\\\\- I was a sickly kid and took medications a lot. Prednisone in particular, was always prescribed by idiotic GPs that didn\\'t know what the fuck they were diagnosing (eventually diagnosed and properly treated by an allergologist after 10 goddamn years). I took a lot of Prednisone in late childhood up to early college.\\n\\n6.) Did you suffer sexual abuse as a child? There is a high degree of correlation between childhood sexual abuse and adult constipation disorders. Meaning, a lot of people with chronic constipation disorders in adulthood experienced trauma when they were young. This sort of thing must be investigated by both your doctor and a therapist in coordination. Do some Googling on this topic if you believe this might be your issue.\\n\\n\\\\- Trauma was heavily involved in my childhood but not sexual in nature. At 12 years old, right when this trauma was happening, I developed Generalized Anxiety Disorder. At this time, I disliked going to the bathroom and would often hold the urge. I held it once for two weeks. \\n  \\n\\n\\nAge: 24\\n\\nSex: Male\\n\\nWeight: 54kg\\n\\nHeight: 5\"4\\n\\nDiet:\\n\\nBefore this constipation worsened, I ate chicken and pork mostly because I\\'m allergic to all seafoods, beans, grapes, tomatoes, etc (it\\'s a long list. It\\'s not too bad of an allergy but it does manifest as atopic dermatitis which is incredibly itchy. This is what the allergologist helped diagnose and gave proper medication for).\\n\\nCurrently, I\\'m eating healthier with lots of vegetables, chicken, fruits (apples without skin because they make me bloat) and lots of water (around 6-8 glasses a day). \\n Exercise:\\n\\nDidn\\'t exercise much when the pandemic hit. Sedentary lifestyle for around 2 years.\\n\\nRight now, I\\'m much more active. Walks during the day, jump-rope at home. In total, around 45 minutes of exercise 2-3 times a week.\\n\\nThanks for sharing! \\n\\nYeah, I know it\\'s kind of a difficult situation for me right now. But I have a GI here that maybe I can push around to make me do tests then I can hopefully show it to the motility expert.\\n\\nRight! I haven\\'t thought about asking my doctor about that. Thanks a lot!\\n\\n',\n",
       " 'personality': 'NEUROTICISM'}"
      ]
     },
     "execution_count": 337,
     "metadata": {},
     "output_type": "execute_result"
    }
   ],
   "source": [
    "users[\"Zestyclose-Tower3859.neuroticism\"]"
   ]
  },
  {
   "attachments": {},
   "cell_type": "markdown",
   "metadata": {},
   "source": [
    "# Making the Models"
   ]
  },
  {
   "attachments": {},
   "cell_type": "markdown",
   "metadata": {},
   "source": [
    "### Preprocess data"
   ]
  },
  {
   "cell_type": "code",
   "execution_count": 338,
   "metadata": {},
   "outputs": [],
   "source": [
    "from sklearn.feature_extraction.text import TfidfVectorizer\n",
    "from sklearn.naive_bayes import GaussianNB\n",
    "from sklearn.metrics import classification_report\n",
    "from sklearn.model_selection import StratifiedShuffleSplit\n",
    "from enum import Enum"
   ]
  },
  {
   "cell_type": "code",
   "execution_count": 339,
   "metadata": {},
   "outputs": [],
   "source": [
    "# get all user objects since usernames are useless\n",
    "user_objects = [users[username] for username in users.keys()]\n",
    "personalities = [user[\"personality\"] for user in user_objects]"
   ]
  },
  {
   "attachments": {},
   "cell_type": "markdown",
   "metadata": {},
   "source": [
    "## Positive/Negative Score Model"
   ]
  },
  {
   "cell_type": "code",
   "execution_count": 340,
   "metadata": {},
   "outputs": [],
   "source": [
    "import pandas as pd\n",
    "\n",
    "df = pd.read_excel('../data/word_list_pos_neg.xlsx')\n",
    "positive_words = df['Positive Sense Word List'].dropna()[1:]\n",
    "negative_words = df['Negative Sense Word List'][1:]\n",
    "all_words = (positive_words + negative_words).drop_duplicates()"
   ]
  },
  {
   "cell_type": "code",
   "execution_count": 341,
   "metadata": {},
   "outputs": [],
   "source": [
    "def calculate_connotation_score(input_string):\n",
    "    # Calculate the count vector for the input string\n",
    "    vectorizer = TfidfVectorizer(vocabulary = positive_words, lowercase=True)\n",
    "    positive_counts = vectorizer.fit_transform([input_string])\n",
    "    positive_counts = positive_counts.toarray()[0]\n",
    "\n",
    "    vectorizer = TfidfVectorizer(vocabulary = negative_words, lowercase=True)\n",
    "    negative_counts = vectorizer.fit_transform([input_string])\n",
    "    negative_counts = negative_counts.toarray()[0]\n",
    "\n",
    "    positive_count = sum(positive_counts)\n",
    "    negative_count = sum(negative_counts)\n",
    "\n",
    "    connotation_score = positive_count - negative_count\n",
    "\n",
    "    return round(connotation_score, 3)"
   ]
  },
  {
   "cell_type": "code",
   "execution_count": 342,
   "metadata": {},
   "outputs": [],
   "source": [
    "import numpy as np\n",
    "\n",
    "vectorizer = TfidfVectorizer(dtype=np.float64)\n",
    "all_strings = [user[\"data\"] for user in user_objects]\n",
    "scored_strings = [str(calculate_connotation_score(string)) for string in all_strings]\n",
    "\n",
    "strings_vector = vectorizer.fit_transform(scored_strings)"
   ]
  },
  {
   "cell_type": "code",
   "execution_count": 343,
   "metadata": {},
   "outputs": [],
   "source": [
    "# Split data into training and testing sets\n",
    "splitter = StratifiedShuffleSplit(n_splits=10, train_size=0.80, test_size=0.20, random_state=9)\n",
    "train_indices, test_indices = next(splitter.split(strings_vector, personalities))\n",
    "train_data = strings_vector[train_indices]\n",
    "train_personalities = [personalities[i] for i in train_indices]\n",
    "test_data = strings_vector[test_indices]\n",
    "test_personalities = [personalities[i] for i in test_indices]"
   ]
  },
  {
   "cell_type": "code",
   "execution_count": 344,
   "metadata": {},
   "outputs": [
    {
     "name": "stdout",
     "output_type": "stream",
     "text": [
      "                   precision    recall  f1-score   support\n",
      "\n",
      "    AGREEABLENESS       0.00      0.00      0.00        28\n",
      "CONSCIENTIOUSNESS       0.00      0.00      0.00        26\n",
      "     EXTRAVERSION       0.03      0.11      0.04        19\n",
      "      NEUROTICISM       0.00      0.00      0.00        28\n",
      "         OPENNESS       0.00      0.00      0.00        28\n",
      "\n",
      "         accuracy                           0.02       129\n",
      "        macro avg       0.01      0.02      0.01       129\n",
      "     weighted avg       0.00      0.02      0.01       129\n",
      "\n"
     ]
    }
   ],
   "source": [
    "# Train the Gaussian Naive Bayes classifier\n",
    "clf = GaussianNB()\n",
    "clf.fit(train_data.toarray(), train_personalities)\n",
    "\n",
    "predicted_personalities = clf.predict(test_data.toarray())\n",
    "print(classification_report(test_personalities, predicted_personalities))"
   ]
  },
  {
   "attachments": {},
   "cell_type": "markdown",
   "metadata": {},
   "source": [
    "## Word Count Model"
   ]
  },
  {
   "cell_type": "code",
   "execution_count": 345,
   "metadata": {},
   "outputs": [],
   "source": [
    "vectorizer = TfidfVectorizer(stop_words=\"english\") \n",
    "string_data = vectorizer.fit_transform(user[\"data\"] for user in user_objects)"
   ]
  },
  {
   "cell_type": "code",
   "execution_count": 346,
   "metadata": {},
   "outputs": [],
   "source": [
    "# Split data into training and testing sets\n",
    "splitter = StratifiedShuffleSplit(n_splits=10, train_size=0.80, test_size=0.20, random_state=9)\n",
    "train_indices, test_indices = next(splitter.split(string_data, personalities))\n",
    "train_data = string_data[train_indices]\n",
    "train_personalities = [personalities[i] for i in train_indices]\n",
    "test_data = string_data[test_indices]\n",
    "test_personalities = [personalities[i] for i in test_indices]"
   ]
  },
  {
   "cell_type": "code",
   "execution_count": 347,
   "metadata": {},
   "outputs": [
    {
     "name": "stdout",
     "output_type": "stream",
     "text": [
      "                   precision    recall  f1-score   support\n",
      "\n",
      "    AGREEABLENESS       0.12      0.04      0.06        28\n",
      "CONSCIENTIOUSNESS       0.13      0.08      0.10        26\n",
      "     EXTRAVERSION       0.00      0.00      0.00        19\n",
      "      NEUROTICISM       0.06      0.07      0.06        28\n",
      "         OPENNESS       0.07      0.04      0.05        28\n",
      "\n",
      "         accuracy                           0.05       129\n",
      "        macro avg       0.08      0.04      0.05       129\n",
      "     weighted avg       0.08      0.05      0.06       129\n",
      "\n"
     ]
    }
   ],
   "source": [
    "# Train the Gaussian Naive Bayes classifier\n",
    "clf = GaussianNB()\n",
    "clf.fit(train_data.toarray(), train_personalities)\n",
    "\n",
    "predicted_personalities = clf.predict(test_data.toarray())\n",
    "print(classification_report(test_personalities, predicted_personalities))"
   ]
  },
  {
   "attachments": {},
   "cell_type": "markdown",
   "metadata": {},
   "source": [
    "## Sentiment Analysis Model"
   ]
  },
  {
   "cell_type": "code",
   "execution_count": 348,
   "metadata": {},
   "outputs": [],
   "source": [
    "from nltk.sentiment.vader import SentimentIntensityAnalyzer\n",
    "\n",
    "analyzer = SentimentIntensityAnalyzer()\n",
    "\n",
    "sentiment_scores = []\n",
    "for i in range(len(user_objects)):\n",
    "    sentiment_scores.append(analyzer.polarity_scores(user_objects[i]['data']))\n",
    "\n",
    "# Add sentiment scores as additional features to the input data\n",
    "full_data = np.array([[score['pos'], score['neg'], score['neu']] for score in sentiment_scores])"
   ]
  },
  {
   "cell_type": "code",
   "execution_count": 349,
   "metadata": {},
   "outputs": [],
   "source": [
    "# Split data into training and testing sets\n",
    "splitter = StratifiedShuffleSplit(n_splits=10, train_size=0.80, test_size=0.20, random_state=9)\n",
    "train_indices, test_indices = next(splitter.split(full_data, personalities))\n",
    "train_data = full_data[train_indices]\n",
    "train_personalities = [personalities[i] for i in train_indices]\n",
    "test_data = full_data[test_indices]\n",
    "test_personalities = [personalities[i] for i in test_indices]\n"
   ]
  },
  {
   "cell_type": "code",
   "execution_count": 350,
   "metadata": {},
   "outputs": [
    {
     "name": "stdout",
     "output_type": "stream",
     "text": [
      "                   precision    recall  f1-score   support\n",
      "\n",
      "    AGREEABLENESS       0.21      0.11      0.14        28\n",
      "CONSCIENTIOUSNESS       0.00      0.00      0.00        26\n",
      "     EXTRAVERSION       0.00      0.00      0.00        19\n",
      "      NEUROTICISM       0.16      0.43      0.24        28\n",
      "         OPENNESS       0.31      0.32      0.32        28\n",
      "\n",
      "         accuracy                           0.19       129\n",
      "        macro avg       0.14      0.17      0.14       129\n",
      "     weighted avg       0.15      0.19      0.15       129\n",
      "\n"
     ]
    }
   ],
   "source": [
    "# Train the Gaussian Naive Bayes classifier\n",
    "clf = GaussianNB()\n",
    "clf.fit(train_data, train_personalities)\n",
    "\n",
    "# Test the classifier and print the classification report\n",
    "predicted_personalities = clf.predict(test_data)\n",
    "print(classification_report(test_personalities, predicted_personalities))"
   ]
  },
  {
   "cell_type": "code",
   "execution_count": 351,
   "metadata": {},
   "outputs": [
    {
     "name": "stdout",
     "output_type": "stream",
     "text": [
      "AGREEABLENESS  -  AGREEABLENESS\n",
      "AGREEABLENESS  -  NEUROTICISM\n",
      "AGREEABLENESS  -  NEUROTICISM\n",
      "AGREEABLENESS  -  NEUROTICISM\n",
      "OPENNESS  -  OPENNESS\n",
      "AGREEABLENESS  -  NEUROTICISM\n",
      "OPENNESS  -  OPENNESS\n",
      "OPENNESS  -  NEUROTICISM\n",
      "NEUROTICISM  -  NEUROTICISM\n",
      "EXTRAVERSION  -  NEUROTICISM\n",
      "AGREEABLENESS  -  NEUROTICISM\n",
      "CONSCIENTIOUSNESS  -  OPENNESS\n",
      "NEUROTICISM  -  AGREEABLENESS\n",
      "OPENNESS  -  NEUROTICISM\n",
      "CONSCIENTIOUSNESS  -  OPENNESS\n",
      "NEUROTICISM  -  CONSCIENTIOUSNESS\n",
      "OPENNESS  -  OPENNESS\n",
      "CONSCIENTIOUSNESS  -  NEUROTICISM\n",
      "NEUROTICISM  -  EXTRAVERSION\n",
      "AGREEABLENESS  -  OPENNESS\n"
     ]
    }
   ],
   "source": [
    "# print(test_personalities[:10])\n",
    "# print(predicted_personalities[:10])\n",
    "\n",
    "for x in range(20):\n",
    "    print(test_personalities[x] + \"  -  \" + predicted_personalities[x])"
   ]
  }
 ],
 "metadata": {
  "kernelspec": {
   "display_name": "Python 3",
   "language": "python",
   "name": "python3"
  },
  "language_info": {
   "codemirror_mode": {
    "name": "ipython",
    "version": 3
   },
   "file_extension": ".py",
   "mimetype": "text/x-python",
   "name": "python",
   "nbconvert_exporter": "python",
   "pygments_lexer": "ipython3",
   "version": "3.10.6"
  },
  "orig_nbformat": 4
 },
 "nbformat": 4,
 "nbformat_minor": 2
}
